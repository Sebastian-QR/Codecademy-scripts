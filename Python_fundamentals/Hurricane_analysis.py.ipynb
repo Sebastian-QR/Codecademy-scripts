{
 "cells": [
  {
   "cell_type": "code",
   "execution_count": 1,
   "id": "2e277208",
   "metadata": {},
   "outputs": [],
   "source": [
    "# names of hurricanes\n",
    "names = ['Cuba I', 'San Felipe II Okeechobee', 'Bahamas', 'Cuba II', 'CubaBrownsville', 'Tampico', 'Labor Day', 'New England', 'Carol', 'Janet', 'Carla', 'Hattie', 'Beulah', 'Camille', 'Edith', 'Anita', 'David', 'Allen', 'Gilbert', 'Hugo', 'Andrew', 'Mitch', 'Isabel', 'Ivan', 'Emily', 'Katrina', 'Rita', 'Wilma', 'Dean', 'Felix', 'Matthew', 'Irma', 'Maria', 'Michael']"
   ]
  },
  {
   "cell_type": "code",
   "execution_count": 2,
   "id": "3aebc1fa",
   "metadata": {},
   "outputs": [],
   "source": [
    "# months of hurricanes\n",
    "months = ['October', 'September', 'September', 'November', 'August', 'September', 'September', 'September', 'September', 'September', 'September', 'October', 'September', 'August', 'September', 'September', 'August', 'August', 'September', 'September', 'August', 'October', 'September', 'September', 'July', 'August', 'September', 'October', 'August', 'September', 'October', 'September', 'September', 'October']"
   ]
  },
  {
   "cell_type": "code",
   "execution_count": 3,
   "id": "759ab449",
   "metadata": {},
   "outputs": [],
   "source": [
    "# years of hurricanes\n",
    "years = [1924, 1928, 1932, 1932, 1933, 1933, 1935, 1938, 1953, 1955, 1961, 1961, 1967, 1969, 1971, 1977, 1979, 1980, 1988, 1989, 1992, 1998, 2003, 2004, 2005, 2005, 2005, 2005, 2007, 2007, 2016, 2017, 2017, 2018]"
   ]
  },
  {
   "cell_type": "code",
   "execution_count": 4,
   "id": "31ea537c",
   "metadata": {},
   "outputs": [],
   "source": [
    "# maximum sustained winds (mph) of hurricanes\n",
    "max_sustained_winds = [165, 160, 160, 175, 160, 160, 185, 160, 160, 175, 175, 160, 160, 175, 160, 175, 175, 190, 185, 160, 175, 180, 165, 165, 160, 175, 180, 185, 175, 175, 165, 180, 175, 160]"
   ]
  },
  {
   "cell_type": "code",
   "execution_count": 5,
   "id": "6cffa120",
   "metadata": {},
   "outputs": [],
   "source": [
    "# areas affected by each hurricane\n",
    "areas_affected = [['Central America', 'Mexico', 'Cuba', 'Florida', 'The Bahamas'], ['Lesser Antilles', 'The Bahamas', 'United States East Coast', 'Atlantic Canada'], ['The Bahamas', 'Northeastern United States'], ['Lesser Antilles', 'Jamaica', 'Cayman Islands', 'Cuba', 'The Bahamas', 'Bermuda'], ['The Bahamas', 'Cuba', 'Florida', 'Texas', 'Tamaulipas'], ['Jamaica', 'Yucatn Peninsula'], ['The Bahamas', 'Florida', 'Georgia', 'The Carolinas', 'Virginia'], ['Southeastern United States', 'Northeastern United States', 'Southwestern Quebec'], ['Bermuda', 'New England', 'Atlantic Canada'], ['Lesser Antilles', 'Central America'], ['Texas', 'Louisiana', 'Midwestern United States'], ['Central America'], ['The Caribbean', 'Mexico', 'Texas'], ['Cuba', 'United States Gulf Coast'], ['The Caribbean', 'Central America', 'Mexico', 'United States Gulf Coast'], ['Mexico'], ['The Caribbean', 'United States East coast'], ['The Caribbean', 'Yucatn Peninsula', 'Mexico', 'South Texas'], ['Jamaica', 'Venezuela', 'Central America', 'Hispaniola', 'Mexico'], ['The Caribbean', 'United States East Coast'], ['The Bahamas', 'Florida', 'United States Gulf Coast'], ['Central America', 'Yucatn Peninsula', 'South Florida'], ['Greater Antilles', 'Bahamas', 'Eastern United States', 'Ontario'], ['The Caribbean', 'Venezuela', 'United States Gulf Coast'], ['Windward Islands', 'Jamaica', 'Mexico', 'Texas'], ['Bahamas', 'United States Gulf Coast'], ['Cuba', 'United States Gulf Coast'], ['Greater Antilles', 'Central America', 'Florida'], ['The Caribbean', 'Central America'], ['Nicaragua', 'Honduras'], ['Antilles', 'Venezuela', 'Colombia', 'United States East Coast', 'Atlantic Canada'], ['Cape Verde', 'The Caribbean', 'British Virgin Islands', 'U.S. Virgin Islands', 'Cuba', 'Florida'], ['Lesser Antilles', 'Virgin Islands', 'Puerto Rico', 'Dominican Republic', 'Turks and Caicos Islands'], ['Central America', 'United States Gulf Coast (especially Florida Panhandle)']]"
   ]
  },
  {
   "cell_type": "code",
   "execution_count": 6,
   "id": "04a24f4b",
   "metadata": {},
   "outputs": [],
   "source": [
    "# damages (USD($)) of hurricanes\n",
    "damages = ['Damages not recorded', '100M', 'Damages not recorded', '40M', '27.9M', '5M', 'Damages not recorded', '306M', '2M', '65.8M', '326M', '60.3M', '208M', '1.42B', '25.4M', 'Damages not recorded', '1.54B', '1.24B', '7.1B', '10B', '26.5B', '6.2B', '5.37B', '23.3B', '1.01B', '125B', '12B', '29.4B', '1.76B', '720M', '15.1B', '64.8B', '91.6B', '25.1B']"
   ]
  },
  {
   "cell_type": "code",
   "execution_count": 7,
   "id": "aa973449",
   "metadata": {},
   "outputs": [],
   "source": [
    "# deaths for each hurricane\n",
    "deaths = [90,4000,16,3103,179,184,408,682,5,1023,43,319,688,259,37,11,2068,269,318,107,65,19325,51,124,17,1836,125,87,45,133,603,138,3057,74]"
   ]
  },
  {
   "cell_type": "code",
   "execution_count": 8,
   "id": "2fe917b0",
   "metadata": {},
   "outputs": [],
   "source": [
    "conversion = {\"M\": 1000000,\n",
    "              \"B\": 1000000000}"
   ]
  },
  {
   "cell_type": "code",
   "execution_count": 9,
   "id": "7af821b5",
   "metadata": {},
   "outputs": [
    {
     "name": "stdout",
     "output_type": "stream",
     "text": [
      "['Damages not recorded', 100000000.0, 'Damages not recorded', 40000000.0, 27900000.0, 5000000.0, 'Damages not recorded', 306000000.0, 2000000.0, 65800000.0, 326000000.0, 60300000.0, 208000000.0, 1420000000.0, 25400000.0, 'Damages not recorded', 1540000000.0, 1240000000.0, 7100000000.0, 10000000000.0, 26500000000.0, 6200000000.0, 5370000000.0, 23300000000.0, 1010000000.0, 125000000000.0, 12000000000.0, 29400000000.0, 1760000000.0, 720000000.0, 15100000000.0, 64800000000.0, 91600000000.0, 25100000000.0]\n"
     ]
    }
   ],
   "source": [
    "# write your update damages function here:\n",
    "def update_damage(damages):\n",
    "  float_damage = []\n",
    "  for damage in damages:\n",
    "    if damage[-1] == \"M\":\n",
    "      float_damage.append(float(damage[:-1]) * conversion[\"M\"])\n",
    "    elif damage[-1] == \"B\":\n",
    "      float_damage.append(float(damage[:-1]) * conversion[\"B\"])\n",
    "    else:\n",
    "      float_damage.append(damage)\n",
    "  return float_damage\n",
    "  \n",
    "updated_damages = update_damage(damages)\n",
    "print(updated_damages)"
   ]
  },
  {
   "cell_type": "code",
   "execution_count": 10,
   "id": "950b5cf3",
   "metadata": {},
   "outputs": [
    {
     "name": "stdout",
     "output_type": "stream",
     "text": [
      "{'Name': 'Tampico', 'Month': 'September', 'Year': 1933, 'Max Sustained Wind': 160, 'Areas Affected': ['Jamaica', 'Yucatn Peninsula'], 'Damage': 5000000.0, 'Deaths': 184}\n"
     ]
    }
   ],
   "source": [
    "# Create and view the hurricanes dictionary\n",
    "def create_dictionary(name, month, year, max_sustained_wind, areas_affected, damage, deaths):\n",
    "  hurricane_dictionary = {}\n",
    "  for i in range(len(names)):\n",
    "    hurricane_dictionary.update({name[i]: {\"Name\": name[i], \"Month\": month[i], \"Year\": year[i], \"Max Sustained Wind\": max_sustained_wind[i], \"Areas Affected\": areas_affected[i], \"Damage\": damage[i], \"Deaths\": deaths[i]}})\n",
    "  return(hurricane_dictionary)\n",
    "\n",
    "hurricane_dictionary = create_dictionary(names, months, years, max_sustained_winds, areas_affected, updated_damages, deaths)\n",
    "print(hurricane_dictionary[\"Tampico\"])"
   ]
  },
  {
   "cell_type": "code",
   "execution_count": 11,
   "id": "e69fe5d6",
   "metadata": {},
   "outputs": [],
   "source": [
    "# write your construct hurricane by year dictionary function here:\n",
    "def year_dictionary(hurricanes):\n",
    "  hurricanes_by_year= dict()\n",
    "  for hurricane in hurricanes:\n",
    "      current_year = hurricanes[hurricane]['Year']\n",
    "      current_hurricane = hurricanes[hurricane]\n",
    "      if current_year not in hurricanes_by_year:\n",
    "          hurricanes_by_year[current_year] = [current_hurricane]\n",
    "      else:\n",
    "          hurricanes_by_year[current_year].append(current_hurricane)\n",
    "  return hurricanes_by_year\n",
    "\n",
    "hurricanes_by_year = year_dictionary(hurricane_dictionary)"
   ]
  },
  {
   "cell_type": "code",
   "execution_count": 12,
   "id": "8d12736b",
   "metadata": {},
   "outputs": [
    {
     "name": "stdout",
     "output_type": "stream",
     "text": [
      "{'United States East Coast': 3, 'Virginia': 1, 'Venezuela': 3, 'Cayman Islands': 1, 'Northeastern United States': 2, 'Bahamas': 2, 'United States Gulf Coast (especially Florida Panhandle)': 1, 'The Caribbean': 8, 'Antilles': 1, 'Texas': 4, 'Florida': 6, 'Cuba': 6, 'Virgin Islands': 1, 'Yucatn Peninsula': 3, 'Colombia': 1, 'United States Gulf Coast': 6, 'Georgia': 1, 'Puerto Rico': 1, 'Hispaniola': 1, 'Jamaica': 4, 'British Virgin Islands': 1, 'South Texas': 1, 'Eastern United States': 1, 'New England': 1, 'Louisiana': 1, 'Nicaragua': 1, 'Bermuda': 2, 'Honduras': 1, 'Ontario': 1, 'Atlantic Canada': 3, 'The Carolinas': 1, 'Windward Islands': 1, 'Greater Antilles': 2, 'Tamaulipas': 1, 'Midwestern United States': 1, 'Southeastern United States': 1, 'United States East coast': 1, 'Turks and Caicos Islands': 1, 'Dominican Republic': 1, 'Lesser Antilles': 4, 'Cape Verde': 1, 'South Florida': 1, 'U.S. Virgin Islands': 1, 'Mexico': 7, 'Southwestern Quebec': 1, 'Central America': 9, 'The Bahamas': 7}\n"
     ]
    }
   ],
   "source": [
    "# write your count affected areas function here:\n",
    "\n",
    "def by_area(dictionary):\n",
    "  by_area = dict()\n",
    "  all_hurricane_areas = []\n",
    "  for hurricane in hurricane_dictionary:\n",
    "    for i in hurricane_dictionary[hurricane][\"Areas Affected\"]:\n",
    "      all_hurricane_areas.append(i)\n",
    "  hurricane_areas = set(all_hurricane_areas)\n",
    "  for area in hurricane_areas:\n",
    "    by_area[area] = all_hurricane_areas.count(area)\n",
    "  return by_area\n",
    "hits_by_area = by_area(hurricane_dictionary)\n",
    "print(hits_by_area)"
   ]
  },
  {
   "cell_type": "code",
   "execution_count": 13,
   "id": "a9554e56",
   "metadata": {},
   "outputs": [
    {
     "name": "stdout",
     "output_type": "stream",
     "text": [
      "['Central America']\n"
     ]
    }
   ],
   "source": [
    "def most_affected_area(dictionary):\n",
    "  max_hits = max(dictionary.values())\n",
    "  max_hit_area = []\n",
    "  for area, hits in dictionary.items():\n",
    "    if hits == max_hits:\n",
    "      max_hit_area.append(area)\n",
    "  return max_hit_area\n",
    "print(most_affected_area(hits_by_area))"
   ]
  },
  {
   "cell_type": "code",
   "execution_count": 14,
   "id": "8ef949fb",
   "metadata": {},
   "outputs": [
    {
     "name": "stdout",
     "output_type": "stream",
     "text": [
      "Mitch\n"
     ]
    }
   ],
   "source": [
    "def deadliest_hurricane(dictionary):\n",
    "  all_deaths = []\n",
    "  for hurricane, details in hurricane_dictionary.items():\n",
    "    all_deaths.append(details[\"Deaths\"])\n",
    "  for details in hurricane_dictionary.values():\n",
    "    if details[\"Deaths\"] == max(all_deaths):\n",
    "      return details[\"Name\"]\n",
    "\n",
    "print(deadliest_hurricane(hurricane_dictionary))"
   ]
  },
  {
   "cell_type": "code",
   "execution_count": 15,
   "id": "c6e84c64",
   "metadata": {},
   "outputs": [
    {
     "name": "stdout",
     "output_type": "stream",
     "text": [
      "[{'Name': 'San Felipe II Okeechobee', 'Month': 'September', 'Year': 1928, 'Max Sustained Wind': 160, 'Areas Affected': ['Lesser Antilles', 'The Bahamas', 'United States East Coast', 'Atlantic Canada'], 'Damage': 100000000.0, 'Deaths': 4000}, {'Name': 'Cuba II', 'Month': 'November', 'Year': 1932, 'Max Sustained Wind': 175, 'Areas Affected': ['Lesser Antilles', 'Jamaica', 'Cayman Islands', 'Cuba', 'The Bahamas', 'Bermuda'], 'Damage': 40000000.0, 'Deaths': 3103}, {'Name': 'Janet', 'Month': 'September', 'Year': 1955, 'Max Sustained Wind': 175, 'Areas Affected': ['Lesser Antilles', 'Central America'], 'Damage': 65800000.0, 'Deaths': 1023}, {'Name': 'David', 'Month': 'August', 'Year': 1979, 'Max Sustained Wind': 175, 'Areas Affected': ['The Caribbean', 'United States East coast'], 'Damage': 1540000000.0, 'Deaths': 2068}, {'Name': 'Katrina', 'Month': 'August', 'Year': 2005, 'Max Sustained Wind': 175, 'Areas Affected': ['Bahamas', 'United States Gulf Coast'], 'Damage': 125000000000.0, 'Deaths': 1836}, {'Name': 'Maria', 'Month': 'September', 'Year': 2017, 'Max Sustained Wind': 175, 'Areas Affected': ['Lesser Antilles', 'Virgin Islands', 'Puerto Rico', 'Dominican Republic', 'Turks and Caicos Islands'], 'Damage': 91600000000.0, 'Deaths': 3057}]\n"
     ]
    }
   ],
   "source": [
    "def by_mortality_rate(hurricane_dictionary):\n",
    "  by_mortality = {0: [], 1: [], 2: [], 3: [], 4: []}\n",
    "  for details in hurricane_dictionary.values():\n",
    "    if details[\"Deaths\"] == 0:\n",
    "      by_mortality[0].append(details)\n",
    "    elif 0 < details[\"Deaths\"] <= 100:\n",
    "      by_mortality[1].append(details)\n",
    "    elif 101 < details[\"Deaths\"] <= 500:\n",
    "      by_mortality[2].append(details)\n",
    "    elif 501 < details[\"Deaths\"] <= 1000:\n",
    "      by_mortality[3].append(details)\n",
    "    elif 1001 < details[\"Deaths\"] <= 10000:\n",
    "      by_mortality[4].append(details)\n",
    "  return by_mortality\n",
    "\n",
    "print(by_mortality_rate(hurricane_dictionary)[4])"
   ]
  },
  {
   "cell_type": "code",
   "execution_count": 16,
   "id": "d004619e",
   "metadata": {},
   "outputs": [
    {
     "name": "stdout",
     "output_type": "stream",
     "text": [
      "Katrina, Damage: 125000000000.0\n"
     ]
    }
   ],
   "source": [
    "def most_damaging_hurricane(dictionary):\n",
    "  all_damages = []\n",
    "  for hurricane, details in dictionary.items():\n",
    "    if isinstance(details[\"Damage\"], float):\n",
    "      all_damages.append(details[\"Damage\"])\n",
    "  for details in dictionary.values():\n",
    "    if details[\"Damage\"] == max(all_damages):\n",
    "      return details[\"Name\"] + \", Damage: \" + str(details[\"Damage\"])\n",
    "\n",
    "print(most_damaging_hurricane(hurricane_dictionary))"
   ]
  },
  {
   "cell_type": "code",
   "execution_count": 18,
   "id": "85371cdc",
   "metadata": {},
   "outputs": [
    {
     "name": "stdout",
     "output_type": "stream",
     "text": [
      "[{'Name': 'Andrew', 'Month': 'August', 'Year': 1992, 'Max Sustained Wind': 175, 'Areas Affected': ['The Bahamas', 'Florida', 'United States Gulf Coast'], 'Damage': 26500000000.0, 'Deaths': 65}, {'Name': 'Ivan', 'Month': 'September', 'Year': 2004, 'Max Sustained Wind': 165, 'Areas Affected': ['The Caribbean', 'Venezuela', 'United States Gulf Coast'], 'Damage': 23300000000.0, 'Deaths': 124}, {'Name': 'Rita', 'Month': 'September', 'Year': 2005, 'Max Sustained Wind': 180, 'Areas Affected': ['Cuba', 'United States Gulf Coast'], 'Damage': 12000000000.0, 'Deaths': 125}, {'Name': 'Wilma', 'Month': 'October', 'Year': 2005, 'Max Sustained Wind': 185, 'Areas Affected': ['Greater Antilles', 'Central America', 'Florida'], 'Damage': 29400000000.0, 'Deaths': 87}, {'Name': 'Matthew', 'Month': 'October', 'Year': 2016, 'Max Sustained Wind': 165, 'Areas Affected': ['Antilles', 'Venezuela', 'Colombia', 'United States East Coast', 'Atlantic Canada'], 'Damage': 15100000000.0, 'Deaths': 603}, {'Name': 'Michael', 'Month': 'October', 'Year': 2018, 'Max Sustained Wind': 160, 'Areas Affected': ['Central America', 'United States Gulf Coast (especially Florida Panhandle)'], 'Damage': 25100000000.0, 'Deaths': 74}]\n"
     ]
    }
   ],
   "source": [
    "damage_scale = {0: 0,\n",
    "                1: 100000000,\n",
    "                2: 1000000000,\n",
    "                3: 10000000000,\n",
    "                4: 50000000000}\n",
    "\n",
    "def rate_by_damage(dictionary):\n",
    "  by_damage = {0: [], 1: [], 2: [], 3: [], 4: []}\n",
    "  for details in dictionary.values():\n",
    "    if details[\"Damage\"] == \"Damages not recorded\":\n",
    "      continue\n",
    "    elif details[\"Damage\"] == damage_scale[0]:\n",
    "      by_damage[0].append(details)\n",
    "    elif damage_scale[0] < details[\"Damage\"] <= damage_scale[1]:\n",
    "      by_damage[1].append(details)\n",
    "    elif damage_scale[1] < details[\"Damage\"] <= damage_scale[2]:\n",
    "      by_damage[2].append(details)\n",
    "    elif damage_scale[2] < details[\"Damage\"] <= damage_scale[3]:\n",
    "      by_damage[3].append(details)\n",
    "    elif damage_scale[3] < details[\"Damage\"] <= damage_scale[4]:\n",
    "      by_damage[4].append(details)\n",
    "  return by_damage\n",
    "\n",
    "print(rate_by_damage(hurricane_dictionary)[4])"
   ]
  },
  {
   "cell_type": "code",
   "execution_count": null,
   "id": "1fa04fd3",
   "metadata": {},
   "outputs": [],
   "source": []
  }
 ],
 "metadata": {
  "kernelspec": {
   "display_name": "Python 3 (ipykernel)",
   "language": "python",
   "name": "python3"
  },
  "language_info": {
   "codemirror_mode": {
    "name": "ipython",
    "version": 3
   },
   "file_extension": ".py",
   "mimetype": "text/x-python",
   "name": "python",
   "nbconvert_exporter": "python",
   "pygments_lexer": "ipython3",
   "version": "3.9.7"
  }
 },
 "nbformat": 4,
 "nbformat_minor": 5
}
